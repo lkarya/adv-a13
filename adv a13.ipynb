{
 "cells": [
  {
   "cell_type": "code",
   "execution_count": 1,
   "id": "9c1cf0b3",
   "metadata": {},
   "outputs": [
    {
     "name": "stdout",
     "output_type": "stream",
     "text": [
      "orl\n"
     ]
    }
   ],
   "source": [
    "# Can you create a programme or function that employs both positive and negative indexing? Is there any repercussion if you do so?\n",
    "\n",
    "b = \"Hello, World!\"\n",
    "print(b[-5:-2])"
   ]
  },
  {
   "cell_type": "code",
   "execution_count": null,
   "id": "84e12ddc",
   "metadata": {},
   "outputs": [],
   "source": [
    "# How do you slice a list to get any other part while missing the rest? (For example, suppose you\n",
    "want to make a new list with the elements first, third, fifth, seventh, and so on.)\n",
    "\n",
    "In Python, list slicing is a common practice and it is the most used technique for programmers to solve efficient problems. Consider a python list, In-order to access a range of elements in a list, you need to slice a list. One way to do this is to use the simple slicing operator i.e. colon(:)\n",
    "\n",
    "With this operator, one can specify where to start the slicing, where to end, and specify the step. List slicing returns a new list from the existing list.\n",
    "\n",
    "Syntax:\n",
    "\n",
    "Lst[ Initial : End : IndexJump ]\n",
    "If Lst is a list, then the above expression returns the portion of the list from index Initial to index End, at a step size IndexJump."
   ]
  },
  {
   "cell_type": "code",
   "execution_count": null,
   "id": "f970e760",
   "metadata": {},
   "outputs": [],
   "source": [
    "# What happens if one of the slicing expression's indexes is out of range?\n",
    "\n",
    "The slicing operation doesn't raise an error if both your start and stop indices are larger than the sequence length. \n",
    "This is in contrast to simple indexing—if you index an element that is out of bounds, Python will throw an index out of bounds error. \n",
    "However, with slicing it simply returns an empty sequence."
   ]
  },
  {
   "cell_type": "code",
   "execution_count": null,
   "id": "a9fa36fd",
   "metadata": {},
   "outputs": [],
   "source": [
    "# What is the concept of an unbalanced matrix?\n",
    "\n",
    "Whenever the cost matrix of an assignment problem is not a square matrix, that is, whenever the number of sources is not equal to the number of destinations, \n",
    "the assignment problem is called an unbalanced assignment problem."
   ]
  }
 ],
 "metadata": {
  "kernelspec": {
   "display_name": "Python 3 (ipykernel)",
   "language": "python",
   "name": "python3"
  },
  "language_info": {
   "codemirror_mode": {
    "name": "ipython",
    "version": 3
   },
   "file_extension": ".py",
   "mimetype": "text/x-python",
   "name": "python",
   "nbconvert_exporter": "python",
   "pygments_lexer": "ipython3",
   "version": "3.9.7"
  }
 },
 "nbformat": 4,
 "nbformat_minor": 5
}
